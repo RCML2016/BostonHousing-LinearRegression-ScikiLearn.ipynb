{
  "nbformat": 4,
  "nbformat_minor": 0,
  "metadata": {
    "colab": {
      "name": "BostonHousing-LinearRegression-ScikiLearn.ipynb",
      "provenance": [],
      "authorship_tag": "ABX9TyM1eT92YigJck06x62jo7TA",
      "include_colab_link": true
    },
    "kernelspec": {
      "name": "python3",
      "display_name": "Python 3"
    }
  },
  "cells": [
    {
      "cell_type": "markdown",
      "metadata": {
        "id": "view-in-github",
        "colab_type": "text"
      },
      "source": [
        "<a href=\"https://colab.research.google.com/github/RCML2016/BostonHousing-LinearRegression-ScikiLearn.ipynb/blob/main/BostonHousing_LinearRegression_ScikiLearn.ipynb\" target=\"_parent\"><img src=\"https://colab.research.google.com/assets/colab-badge.svg\" alt=\"Open In Colab\"/></a>"
      ]
    },
    {
      "cell_type": "code",
      "metadata": {
        "id": "S79Un-KUBlSe"
      },
      "source": [
        "#Import the necessary packages\r\n",
        "\r\n",
        "import pandas as pd\r\n",
        "from sklearn import datasets\r\n",
        "boston_raw=datasets.load_boston()"
      ],
      "execution_count": 70,
      "outputs": []
    },
    {
      "cell_type": "code",
      "metadata": {
        "colab": {
          "base_uri": "https://localhost:8080/",
          "height": 393
        },
        "id": "vnIiIRe7DdlP",
        "outputId": "f7fe6c44-dc68-43ae-eabe-2782ebc7bbd1"
      },
      "source": [
        "#convert the boston_raw into a data frame, so that we can asnlyze the data dnd easilli.\r\n",
        "boston=pd.DataFrame(boston_raw.data,columns=boston_raw.feature_names)\r\n",
        "#\r\n",
        "boston['MEDV']=boston_raw.target\r\n",
        "\r\n",
        "print(boston.shape)\r\n",
        "boston.head(10)"
      ],
      "execution_count": 71,
      "outputs": [
        {
          "output_type": "stream",
          "text": [
            "(506, 14)\n"
          ],
          "name": "stdout"
        },
        {
          "output_type": "execute_result",
          "data": {
            "text/html": [
              "<div>\n",
              "<style scoped>\n",
              "    .dataframe tbody tr th:only-of-type {\n",
              "        vertical-align: middle;\n",
              "    }\n",
              "\n",
              "    .dataframe tbody tr th {\n",
              "        vertical-align: top;\n",
              "    }\n",
              "\n",
              "    .dataframe thead th {\n",
              "        text-align: right;\n",
              "    }\n",
              "</style>\n",
              "<table border=\"1\" class=\"dataframe\">\n",
              "  <thead>\n",
              "    <tr style=\"text-align: right;\">\n",
              "      <th></th>\n",
              "      <th>CRIM</th>\n",
              "      <th>ZN</th>\n",
              "      <th>INDUS</th>\n",
              "      <th>CHAS</th>\n",
              "      <th>NOX</th>\n",
              "      <th>RM</th>\n",
              "      <th>AGE</th>\n",
              "      <th>DIS</th>\n",
              "      <th>RAD</th>\n",
              "      <th>TAX</th>\n",
              "      <th>PTRATIO</th>\n",
              "      <th>B</th>\n",
              "      <th>LSTAT</th>\n",
              "      <th>MEDV</th>\n",
              "    </tr>\n",
              "  </thead>\n",
              "  <tbody>\n",
              "    <tr>\n",
              "      <th>0</th>\n",
              "      <td>0.00632</td>\n",
              "      <td>18.0</td>\n",
              "      <td>2.31</td>\n",
              "      <td>0.0</td>\n",
              "      <td>0.538</td>\n",
              "      <td>6.575</td>\n",
              "      <td>65.2</td>\n",
              "      <td>4.0900</td>\n",
              "      <td>1.0</td>\n",
              "      <td>296.0</td>\n",
              "      <td>15.3</td>\n",
              "      <td>396.90</td>\n",
              "      <td>4.98</td>\n",
              "      <td>24.0</td>\n",
              "    </tr>\n",
              "    <tr>\n",
              "      <th>1</th>\n",
              "      <td>0.02731</td>\n",
              "      <td>0.0</td>\n",
              "      <td>7.07</td>\n",
              "      <td>0.0</td>\n",
              "      <td>0.469</td>\n",
              "      <td>6.421</td>\n",
              "      <td>78.9</td>\n",
              "      <td>4.9671</td>\n",
              "      <td>2.0</td>\n",
              "      <td>242.0</td>\n",
              "      <td>17.8</td>\n",
              "      <td>396.90</td>\n",
              "      <td>9.14</td>\n",
              "      <td>21.6</td>\n",
              "    </tr>\n",
              "    <tr>\n",
              "      <th>2</th>\n",
              "      <td>0.02729</td>\n",
              "      <td>0.0</td>\n",
              "      <td>7.07</td>\n",
              "      <td>0.0</td>\n",
              "      <td>0.469</td>\n",
              "      <td>7.185</td>\n",
              "      <td>61.1</td>\n",
              "      <td>4.9671</td>\n",
              "      <td>2.0</td>\n",
              "      <td>242.0</td>\n",
              "      <td>17.8</td>\n",
              "      <td>392.83</td>\n",
              "      <td>4.03</td>\n",
              "      <td>34.7</td>\n",
              "    </tr>\n",
              "    <tr>\n",
              "      <th>3</th>\n",
              "      <td>0.03237</td>\n",
              "      <td>0.0</td>\n",
              "      <td>2.18</td>\n",
              "      <td>0.0</td>\n",
              "      <td>0.458</td>\n",
              "      <td>6.998</td>\n",
              "      <td>45.8</td>\n",
              "      <td>6.0622</td>\n",
              "      <td>3.0</td>\n",
              "      <td>222.0</td>\n",
              "      <td>18.7</td>\n",
              "      <td>394.63</td>\n",
              "      <td>2.94</td>\n",
              "      <td>33.4</td>\n",
              "    </tr>\n",
              "    <tr>\n",
              "      <th>4</th>\n",
              "      <td>0.06905</td>\n",
              "      <td>0.0</td>\n",
              "      <td>2.18</td>\n",
              "      <td>0.0</td>\n",
              "      <td>0.458</td>\n",
              "      <td>7.147</td>\n",
              "      <td>54.2</td>\n",
              "      <td>6.0622</td>\n",
              "      <td>3.0</td>\n",
              "      <td>222.0</td>\n",
              "      <td>18.7</td>\n",
              "      <td>396.90</td>\n",
              "      <td>5.33</td>\n",
              "      <td>36.2</td>\n",
              "    </tr>\n",
              "    <tr>\n",
              "      <th>5</th>\n",
              "      <td>0.02985</td>\n",
              "      <td>0.0</td>\n",
              "      <td>2.18</td>\n",
              "      <td>0.0</td>\n",
              "      <td>0.458</td>\n",
              "      <td>6.430</td>\n",
              "      <td>58.7</td>\n",
              "      <td>6.0622</td>\n",
              "      <td>3.0</td>\n",
              "      <td>222.0</td>\n",
              "      <td>18.7</td>\n",
              "      <td>394.12</td>\n",
              "      <td>5.21</td>\n",
              "      <td>28.7</td>\n",
              "    </tr>\n",
              "    <tr>\n",
              "      <th>6</th>\n",
              "      <td>0.08829</td>\n",
              "      <td>12.5</td>\n",
              "      <td>7.87</td>\n",
              "      <td>0.0</td>\n",
              "      <td>0.524</td>\n",
              "      <td>6.012</td>\n",
              "      <td>66.6</td>\n",
              "      <td>5.5605</td>\n",
              "      <td>5.0</td>\n",
              "      <td>311.0</td>\n",
              "      <td>15.2</td>\n",
              "      <td>395.60</td>\n",
              "      <td>12.43</td>\n",
              "      <td>22.9</td>\n",
              "    </tr>\n",
              "    <tr>\n",
              "      <th>7</th>\n",
              "      <td>0.14455</td>\n",
              "      <td>12.5</td>\n",
              "      <td>7.87</td>\n",
              "      <td>0.0</td>\n",
              "      <td>0.524</td>\n",
              "      <td>6.172</td>\n",
              "      <td>96.1</td>\n",
              "      <td>5.9505</td>\n",
              "      <td>5.0</td>\n",
              "      <td>311.0</td>\n",
              "      <td>15.2</td>\n",
              "      <td>396.90</td>\n",
              "      <td>19.15</td>\n",
              "      <td>27.1</td>\n",
              "    </tr>\n",
              "    <tr>\n",
              "      <th>8</th>\n",
              "      <td>0.21124</td>\n",
              "      <td>12.5</td>\n",
              "      <td>7.87</td>\n",
              "      <td>0.0</td>\n",
              "      <td>0.524</td>\n",
              "      <td>5.631</td>\n",
              "      <td>100.0</td>\n",
              "      <td>6.0821</td>\n",
              "      <td>5.0</td>\n",
              "      <td>311.0</td>\n",
              "      <td>15.2</td>\n",
              "      <td>386.63</td>\n",
              "      <td>29.93</td>\n",
              "      <td>16.5</td>\n",
              "    </tr>\n",
              "    <tr>\n",
              "      <th>9</th>\n",
              "      <td>0.17004</td>\n",
              "      <td>12.5</td>\n",
              "      <td>7.87</td>\n",
              "      <td>0.0</td>\n",
              "      <td>0.524</td>\n",
              "      <td>6.004</td>\n",
              "      <td>85.9</td>\n",
              "      <td>6.5921</td>\n",
              "      <td>5.0</td>\n",
              "      <td>311.0</td>\n",
              "      <td>15.2</td>\n",
              "      <td>386.71</td>\n",
              "      <td>17.10</td>\n",
              "      <td>18.9</td>\n",
              "    </tr>\n",
              "  </tbody>\n",
              "</table>\n",
              "</div>"
            ],
            "text/plain": [
              "      CRIM    ZN  INDUS  CHAS    NOX  ...    TAX  PTRATIO       B  LSTAT  MEDV\n",
              "0  0.00632  18.0   2.31   0.0  0.538  ...  296.0     15.3  396.90   4.98  24.0\n",
              "1  0.02731   0.0   7.07   0.0  0.469  ...  242.0     17.8  396.90   9.14  21.6\n",
              "2  0.02729   0.0   7.07   0.0  0.469  ...  242.0     17.8  392.83   4.03  34.7\n",
              "3  0.03237   0.0   2.18   0.0  0.458  ...  222.0     18.7  394.63   2.94  33.4\n",
              "4  0.06905   0.0   2.18   0.0  0.458  ...  222.0     18.7  396.90   5.33  36.2\n",
              "5  0.02985   0.0   2.18   0.0  0.458  ...  222.0     18.7  394.12   5.21  28.7\n",
              "6  0.08829  12.5   7.87   0.0  0.524  ...  311.0     15.2  395.60  12.43  22.9\n",
              "7  0.14455  12.5   7.87   0.0  0.524  ...  311.0     15.2  396.90  19.15  27.1\n",
              "8  0.21124  12.5   7.87   0.0  0.524  ...  311.0     15.2  386.63  29.93  16.5\n",
              "9  0.17004  12.5   7.87   0.0  0.524  ...  311.0     15.2  386.71  17.10  18.9\n",
              "\n",
              "[10 rows x 14 columns]"
            ]
          },
          "metadata": {
            "tags": []
          },
          "execution_count": 71
        }
      ]
    },
    {
      "cell_type": "code",
      "metadata": {
        "colab": {
          "base_uri": "https://localhost:8080/",
          "height": 314
        },
        "id": "yj_rfz7GEB9J",
        "outputId": "432178e0-d2ee-43af-ea08-0ad9e42bf2c3"
      },
      "source": [
        "#Analyze all the coloumn data types\r\n",
        "#boston.dtypes, boston.info(), \r\n",
        "boston.describe()\r\n",
        "#boston.info()"
      ],
      "execution_count": 72,
      "outputs": [
        {
          "output_type": "execute_result",
          "data": {
            "text/html": [
              "<div>\n",
              "<style scoped>\n",
              "    .dataframe tbody tr th:only-of-type {\n",
              "        vertical-align: middle;\n",
              "    }\n",
              "\n",
              "    .dataframe tbody tr th {\n",
              "        vertical-align: top;\n",
              "    }\n",
              "\n",
              "    .dataframe thead th {\n",
              "        text-align: right;\n",
              "    }\n",
              "</style>\n",
              "<table border=\"1\" class=\"dataframe\">\n",
              "  <thead>\n",
              "    <tr style=\"text-align: right;\">\n",
              "      <th></th>\n",
              "      <th>CRIM</th>\n",
              "      <th>ZN</th>\n",
              "      <th>INDUS</th>\n",
              "      <th>CHAS</th>\n",
              "      <th>NOX</th>\n",
              "      <th>RM</th>\n",
              "      <th>AGE</th>\n",
              "      <th>DIS</th>\n",
              "      <th>RAD</th>\n",
              "      <th>TAX</th>\n",
              "      <th>PTRATIO</th>\n",
              "      <th>B</th>\n",
              "      <th>LSTAT</th>\n",
              "      <th>MEDV</th>\n",
              "    </tr>\n",
              "  </thead>\n",
              "  <tbody>\n",
              "    <tr>\n",
              "      <th>count</th>\n",
              "      <td>506.000000</td>\n",
              "      <td>506.000000</td>\n",
              "      <td>506.000000</td>\n",
              "      <td>506.000000</td>\n",
              "      <td>506.000000</td>\n",
              "      <td>506.000000</td>\n",
              "      <td>506.000000</td>\n",
              "      <td>506.000000</td>\n",
              "      <td>506.000000</td>\n",
              "      <td>506.000000</td>\n",
              "      <td>506.000000</td>\n",
              "      <td>506.000000</td>\n",
              "      <td>506.000000</td>\n",
              "      <td>506.000000</td>\n",
              "    </tr>\n",
              "    <tr>\n",
              "      <th>mean</th>\n",
              "      <td>3.613524</td>\n",
              "      <td>11.363636</td>\n",
              "      <td>11.136779</td>\n",
              "      <td>0.069170</td>\n",
              "      <td>0.554695</td>\n",
              "      <td>6.284634</td>\n",
              "      <td>68.574901</td>\n",
              "      <td>3.795043</td>\n",
              "      <td>9.549407</td>\n",
              "      <td>408.237154</td>\n",
              "      <td>18.455534</td>\n",
              "      <td>356.674032</td>\n",
              "      <td>12.653063</td>\n",
              "      <td>22.532806</td>\n",
              "    </tr>\n",
              "    <tr>\n",
              "      <th>std</th>\n",
              "      <td>8.601545</td>\n",
              "      <td>23.322453</td>\n",
              "      <td>6.860353</td>\n",
              "      <td>0.253994</td>\n",
              "      <td>0.115878</td>\n",
              "      <td>0.702617</td>\n",
              "      <td>28.148861</td>\n",
              "      <td>2.105710</td>\n",
              "      <td>8.707259</td>\n",
              "      <td>168.537116</td>\n",
              "      <td>2.164946</td>\n",
              "      <td>91.294864</td>\n",
              "      <td>7.141062</td>\n",
              "      <td>9.197104</td>\n",
              "    </tr>\n",
              "    <tr>\n",
              "      <th>min</th>\n",
              "      <td>0.006320</td>\n",
              "      <td>0.000000</td>\n",
              "      <td>0.460000</td>\n",
              "      <td>0.000000</td>\n",
              "      <td>0.385000</td>\n",
              "      <td>3.561000</td>\n",
              "      <td>2.900000</td>\n",
              "      <td>1.129600</td>\n",
              "      <td>1.000000</td>\n",
              "      <td>187.000000</td>\n",
              "      <td>12.600000</td>\n",
              "      <td>0.320000</td>\n",
              "      <td>1.730000</td>\n",
              "      <td>5.000000</td>\n",
              "    </tr>\n",
              "    <tr>\n",
              "      <th>25%</th>\n",
              "      <td>0.082045</td>\n",
              "      <td>0.000000</td>\n",
              "      <td>5.190000</td>\n",
              "      <td>0.000000</td>\n",
              "      <td>0.449000</td>\n",
              "      <td>5.885500</td>\n",
              "      <td>45.025000</td>\n",
              "      <td>2.100175</td>\n",
              "      <td>4.000000</td>\n",
              "      <td>279.000000</td>\n",
              "      <td>17.400000</td>\n",
              "      <td>375.377500</td>\n",
              "      <td>6.950000</td>\n",
              "      <td>17.025000</td>\n",
              "    </tr>\n",
              "    <tr>\n",
              "      <th>50%</th>\n",
              "      <td>0.256510</td>\n",
              "      <td>0.000000</td>\n",
              "      <td>9.690000</td>\n",
              "      <td>0.000000</td>\n",
              "      <td>0.538000</td>\n",
              "      <td>6.208500</td>\n",
              "      <td>77.500000</td>\n",
              "      <td>3.207450</td>\n",
              "      <td>5.000000</td>\n",
              "      <td>330.000000</td>\n",
              "      <td>19.050000</td>\n",
              "      <td>391.440000</td>\n",
              "      <td>11.360000</td>\n",
              "      <td>21.200000</td>\n",
              "    </tr>\n",
              "    <tr>\n",
              "      <th>75%</th>\n",
              "      <td>3.677083</td>\n",
              "      <td>12.500000</td>\n",
              "      <td>18.100000</td>\n",
              "      <td>0.000000</td>\n",
              "      <td>0.624000</td>\n",
              "      <td>6.623500</td>\n",
              "      <td>94.075000</td>\n",
              "      <td>5.188425</td>\n",
              "      <td>24.000000</td>\n",
              "      <td>666.000000</td>\n",
              "      <td>20.200000</td>\n",
              "      <td>396.225000</td>\n",
              "      <td>16.955000</td>\n",
              "      <td>25.000000</td>\n",
              "    </tr>\n",
              "    <tr>\n",
              "      <th>max</th>\n",
              "      <td>88.976200</td>\n",
              "      <td>100.000000</td>\n",
              "      <td>27.740000</td>\n",
              "      <td>1.000000</td>\n",
              "      <td>0.871000</td>\n",
              "      <td>8.780000</td>\n",
              "      <td>100.000000</td>\n",
              "      <td>12.126500</td>\n",
              "      <td>24.000000</td>\n",
              "      <td>711.000000</td>\n",
              "      <td>22.000000</td>\n",
              "      <td>396.900000</td>\n",
              "      <td>37.970000</td>\n",
              "      <td>50.000000</td>\n",
              "    </tr>\n",
              "  </tbody>\n",
              "</table>\n",
              "</div>"
            ],
            "text/plain": [
              "             CRIM          ZN       INDUS  ...           B       LSTAT        MEDV\n",
              "count  506.000000  506.000000  506.000000  ...  506.000000  506.000000  506.000000\n",
              "mean     3.613524   11.363636   11.136779  ...  356.674032   12.653063   22.532806\n",
              "std      8.601545   23.322453    6.860353  ...   91.294864    7.141062    9.197104\n",
              "min      0.006320    0.000000    0.460000  ...    0.320000    1.730000    5.000000\n",
              "25%      0.082045    0.000000    5.190000  ...  375.377500    6.950000   17.025000\n",
              "50%      0.256510    0.000000    9.690000  ...  391.440000   11.360000   21.200000\n",
              "75%      3.677083   12.500000   18.100000  ...  396.225000   16.955000   25.000000\n",
              "max     88.976200  100.000000   27.740000  ...  396.900000   37.970000   50.000000\n",
              "\n",
              "[8 rows x 14 columns]"
            ]
          },
          "metadata": {
            "tags": []
          },
          "execution_count": 72
        }
      ]
    },
    {
      "cell_type": "code",
      "metadata": {
        "colab": {
          "base_uri": "https://localhost:8080/"
        },
        "id": "q9abAgDbFvvU",
        "outputId": "078b4829-970c-4037-a1fe-4ed47be2b63f"
      },
      "source": [
        "boston.groupby('MEDV').size()"
      ],
      "execution_count": 73,
      "outputs": [
        {
          "output_type": "execute_result",
          "data": {
            "text/plain": [
              "MEDV\n",
              "5.0      2\n",
              "5.6      1\n",
              "6.3      1\n",
              "7.0      2\n",
              "7.2      3\n",
              "        ..\n",
              "46.7     1\n",
              "48.3     1\n",
              "48.5     1\n",
              "48.8     1\n",
              "50.0    16\n",
              "Length: 229, dtype: int64"
            ]
          },
          "metadata": {
            "tags": []
          },
          "execution_count": 73
        }
      ]
    },
    {
      "cell_type": "code",
      "metadata": {
        "colab": {
          "base_uri": "https://localhost:8080/"
        },
        "id": "Bkr_4ZBAGCvg",
        "outputId": "ed03f2fa-e83c-4522-9135-ec967217637c"
      },
      "source": [
        "#Spilit the Data into Training and Testing sets\r\n",
        "\r\n",
        "from sklearn import model_selection\r\n",
        "\r\n",
        "#Create Train and Test Set split\r\n",
        "\r\n",
        "boston_train, boston_test=model_selection.train_test_split(boston,test_size=0.2,train_size=0.8,random_state=1) \r\n",
        "#Note1:-Random State is an Optional value . In case if we dont mention , every iteration when we run this cell a new set of (different) train set will be formed and consumed in the Rest of the model generation\r\n",
        "print (\"shape of the Original Boston Data:\", boston.shape)\r\n",
        "print (\"shape of the Original Boston Train Data:\", boston_train)\r\n",
        "print (\"shape of the Original Boston Test Data:\", boston_test)"
      ],
      "execution_count": 74,
      "outputs": [
        {
          "output_type": "stream",
          "text": [
            "shape of the Original Boston Data: (506, 14)\n",
            "shape of the Original Boston Train Data:          CRIM    ZN  INDUS  CHAS    NOX  ...    TAX  PTRATIO       B  LSTAT  MEDV\n",
            "42    0.14150   0.0   6.91   0.0  0.448  ...  233.0     17.9  383.37   5.81  25.3\n",
            "58    0.15445  25.0   5.13   0.0  0.453  ...  284.0     19.7  390.68   6.86  23.3\n",
            "385  16.81180   0.0  18.10   0.0  0.700  ...  666.0     20.2  396.90  30.81   7.2\n",
            "78    0.05646   0.0  12.83   0.0  0.437  ...  398.0     18.7  386.40  12.34  21.2\n",
            "424   8.79212   0.0  18.10   0.0  0.584  ...  666.0     20.2    3.65  17.16  11.7\n",
            "..        ...   ...    ...   ...    ...  ...    ...      ...     ...    ...   ...\n",
            "255   0.03548  80.0   3.64   0.0  0.392  ...  315.0     16.4  395.18   9.25  20.9\n",
            "72    0.09164   0.0  10.81   0.0  0.413  ...  305.0     19.2  390.91   5.52  22.8\n",
            "396   5.87205   0.0  18.10   0.0  0.693  ...  666.0     20.2  396.90  19.37  12.5\n",
            "235   0.33045   0.0   6.20   0.0  0.507  ...  307.0     17.4  376.75  10.88  24.0\n",
            "37    0.08014   0.0   5.96   0.0  0.499  ...  279.0     19.2  396.90   8.77  21.0\n",
            "\n",
            "[404 rows x 14 columns]\n",
            "shape of the Original Boston Test Data:          CRIM    ZN  INDUS  CHAS    NOX  ...    TAX  PTRATIO       B  LSTAT  MEDV\n",
            "307   0.04932  33.0   2.18   0.0  0.472  ...  222.0     18.4  396.90   7.53  28.2\n",
            "343   0.02543  55.0   3.78   0.0  0.484  ...  370.0     17.6  396.90   7.18  23.9\n",
            "47    0.22927   0.0   6.91   0.0  0.448  ...  233.0     17.9  392.74  18.80  16.6\n",
            "67    0.05789  12.5   6.07   0.0  0.409  ...  345.0     18.9  396.21   8.10  22.0\n",
            "362   3.67822   0.0  18.10   0.0  0.770  ...  666.0     20.2  380.79  10.19  20.8\n",
            "..        ...   ...    ...   ...    ...  ...    ...      ...     ...    ...   ...\n",
            "92    0.04203  28.0  15.04   0.0  0.464  ...  270.0     18.2  395.01   8.16  22.9\n",
            "224   0.31533   0.0   6.20   0.0  0.504  ...  307.0     17.4  385.05   4.14  44.8\n",
            "110   0.10793   0.0   8.56   0.0  0.520  ...  384.0     20.9  393.49  13.00  21.7\n",
            "426  12.24720   0.0  18.10   0.0  0.584  ...  666.0     20.2   24.65  15.69  10.2\n",
            "443   9.96654   0.0  18.10   0.0  0.740  ...  666.0     20.2  386.73  18.85  15.4\n",
            "\n",
            "[102 rows x 14 columns]\n"
          ],
          "name": "stdout"
        }
      ]
    },
    {
      "cell_type": "code",
      "metadata": {
        "id": "fbj7nf8eISo7"
      },
      "source": [
        "##As the index starts with Zero for Train and Test sets , restting it\r\n",
        "boston_train=boston_train.reset_index(drop=True)\r\n",
        "boston_test=boston_test.reset_index(drop=True)"
      ],
      "execution_count": 75,
      "outputs": []
    },
    {
      "cell_type": "markdown",
      "metadata": {
        "id": "8m3hPvRcI6vn"
      },
      "source": [
        "##Feature Selection and with Co-Relation Abalysis\r\n",
        "In the dataset , we have to find the fearures that are either less corelated or more corelated to the Targetted Variable \"MEDV\".\r\n",
        "\r\n",
        "Since the corelation brings lower side and upper side boundaries for rhe  varibles and helps in determing the corelation boundries.\r\n",
        "\r\n",
        "\r\n",
        "1.   A Corelation value can be range between -1 to 1\r\n",
        "2.   Negative (-1) corelation means high negative between the variables.\r\n",
        "3.   A Positive (+1) corelation means high Positive between the variables.\r\n",
        "4.   A Zero (0) corelation means , low or no corelation at all.\r\n",
        "\r\n"
      ]
    },
    {
      "cell_type": "code",
      "metadata": {
        "colab": {
          "base_uri": "https://localhost:8080/",
          "height": 319
        },
        "id": "fLm6QYEmKXUC",
        "outputId": "d69d10ef-e587-4cf5-b993-66f9e20aa0b1"
      },
      "source": [
        "import seaborn as sns\r\n",
        "boston_corr_matrix=boston_train.corr()\r\n",
        "sns.heatmap(data=boston_corr_matrix, annot=False)"
      ],
      "execution_count": 76,
      "outputs": [
        {
          "output_type": "execute_result",
          "data": {
            "text/plain": [
              "<matplotlib.axes._subplots.AxesSubplot at 0x7f81da283f98>"
            ]
          },
          "metadata": {
            "tags": []
          },
          "execution_count": 76
        },
        {
          "output_type": "display_data",
          "data": {
            "image/png": "[encoded data removed]",
            "text/plain": [
              "<Figure size 432x288 with 2 Axes>"
            ]
          },
          "metadata": {
            "tags": [],
            "needs_background": "light"
          }
        }
      ]
    },
    {
      "cell_type": "markdown",
      "metadata": {
        "id": "v-_Kj6GVMR1y"
      },
      "source": [
        "**bold text**\r\n",
        "#Since \"MEDV\" is the targetted varibales, lets select the features whcih corelated both Positive and Negative.\r\n",
        "\r\n",
        "#Do not Add varibles with low or non-existent corelation, as they cause the unnecessary Dimensionality Issues."
      ]
    },
    {
      "cell_type": "code",
      "metadata": {
        "colab": {
          "base_uri": "https://localhost:8080/"
        },
        "id": "b0QjUm93M9CK",
        "outputId": "7d5dd982-c86f-4ebe-ffc6-5f04cb6e5b44"
      },
      "source": [
        "#Printing all the corelations to MEDV in Descending order\r\n",
        "boston_corr_matrix['MEDV'].sort_values(ascending=False)"
      ],
      "execution_count": 77,
      "outputs": [
        {
          "output_type": "execute_result",
          "data": {
            "text/plain": [
              "MEDV       1.000000\n",
              "RM         0.670963\n",
              "ZN         0.387510\n",
              "B          0.329432\n",
              "DIS        0.280202\n",
              "CHAS       0.156214\n",
              "CRIM      -0.392849\n",
              "RAD       -0.393258\n",
              "AGE       -0.413612\n",
              "NOX       -0.449965\n",
              "TAX       -0.464379\n",
              "INDUS     -0.498042\n",
              "PTRATIO   -0.524866\n",
              "LSTAT     -0.741302\n",
              "Name: MEDV, dtype: float64"
            ]
          },
          "metadata": {
            "tags": []
          },
          "execution_count": 77
        }
      ]
    },
    {
      "cell_type": "markdown",
      "metadata": {
        "id": "YrDMUHvYP1zG"
      },
      "source": [
        "#Select two positive corelated variables (RM.ZN) and Two Negative Corelated (PTRATIO, LSTAT)."
      ]
    },
    {
      "cell_type": "code",
      "metadata": {
        "id": "RyCsJ5vJQEca"
      },
      "source": [
        ""
      ],
      "execution_count": 77,
      "outputs": []
    },
    {
      "cell_type": "markdown",
      "metadata": {
        "id": "FJoDTUgwQFh6"
      },
      "source": [
        "##Split the Data into various Features and Labels.\r\n",
        "Here in this case the Feature will be (Target Variable 'MEDV) and labels will be 4 columns (RM,ZN, PTRAIO,LSTAT) that we seleceted from Corelation matrix.\r\n"
      ]
    },
    {
      "cell_type": "code",
      "metadata": {
        "colab": {
          "base_uri": "https://localhost:8080/"
        },
        "id": "ZDK74DEXQomN",
        "outputId": "0a0ef749-b4a6-4b9f-ecf6-5062f5219161"
      },
      "source": [
        "boston_features=['RM','ZN','PTRATIO','LSTAT']\r\n",
        "boston_labels=['MEDV']\r\n",
        "\r\n",
        "print ('BOSTON DATA SET')\r\n",
        "print (\"Features _\" + str (boston_features))\r\n",
        "print (\"Labels _ \" + str(boston_labels))\r\n",
        "\r\n",
        "boston_train_features=boston_train[boston_features]\r\n",
        "boston_train_labels=boston_train[boston_labels]\r\n",
        "\r\n",
        "boston_test_features=boston_test[boston_features]\r\n",
        "boston_test_labels=boston_test[boston_labels]"
      ],
      "execution_count": 78,
      "outputs": [
        {
          "output_type": "stream",
          "text": [
            "BOSTON DATA SET\n",
            "Features _['RM', 'ZN', 'PTRATIO', 'LSTAT']\n",
            "Labels _ ['MEDV']\n"
          ],
          "name": "stdout"
        }
      ]
    },
    {
      "cell_type": "markdown",
      "metadata": {
        "id": "Wv1c_Ci6VIUu"
      },
      "source": [
        "##Simple Liner Regression\r\n",
        " Y= B0 + B1X1\r\n",
        " Y=Dep Variable\r\n",
        " B1= Coefficient\r\n",
        " X1= Ind Variable"
      ]
    },
    {
      "cell_type": "code",
      "metadata": {
        "colab": {
          "base_uri": "https://localhost:8080/"
        },
        "id": "SkjqpCaXWKoM",
        "outputId": "da205fcf-6e02-49b1-ef27-6c469032151a"
      },
      "source": [
        "#Model Creation and Implemention\r\n",
        "\r\n",
        "from sklearn.linear_model import LinearRegression\r\n",
        "\r\n",
        "#Create a Model Object\r\n",
        "lr=LinearRegression()\r\n",
        "\r\n",
        "#Fit the Model into the Train Data set\r\n",
        "lr.fit(boston_train_features,boston_train_labels)"
      ],
      "execution_count": 79,
      "outputs": [
        {
          "output_type": "execute_result",
          "data": {
            "text/plain": [
              "LinearRegression(copy_X=True, fit_intercept=True, n_jobs=None, normalize=False)"
            ]
          },
          "metadata": {
            "tags": []
          },
          "execution_count": 79
        }
      ]
    },
    {
      "cell_type": "code",
      "metadata": {
        "colab": {
          "base_uri": "https://localhost:8080/",
          "height": 202
        },
        "id": "-2Y8KBYkW9jI",
        "outputId": "33a51dfb-3cbc-4b90-8bd5-7af9205282ea"
      },
      "source": [
        "#Predecting the Test Set Results.\r\n",
        "lr_predection=lr.predict(boston_test_features)\r\n",
        "#Create the above predections and probabilities together to create a readable df\r\n",
        "lr_df=pd.DataFrame(lr_predection.reshape(len(lr_predection),1))\r\n",
        "lr_df.rename(columns={0:'lr_predection'},inplace=True)\r\n",
        "lr_df.head()"
      ],
      "execution_count": 80,
      "outputs": [
        {
          "output_type": "execute_result",
          "data": {
            "text/html": [
              "<div>\n",
              "<style scoped>\n",
              "    .dataframe tbody tr th:only-of-type {\n",
              "        vertical-align: middle;\n",
              "    }\n",
              "\n",
              "    .dataframe tbody tr th {\n",
              "        vertical-align: top;\n",
              "    }\n",
              "\n",
              "    .dataframe thead th {\n",
              "        text-align: right;\n",
              "    }\n",
              "</style>\n",
              "<table border=\"1\" class=\"dataframe\">\n",
              "  <thead>\n",
              "    <tr style=\"text-align: right;\">\n",
              "      <th></th>\n",
              "      <th>lr_predection</th>\n",
              "    </tr>\n",
              "  </thead>\n",
              "  <tbody>\n",
              "    <tr>\n",
              "      <th>0</th>\n",
              "      <td>27.829478</td>\n",
              "    </tr>\n",
              "    <tr>\n",
              "      <th>1</th>\n",
              "      <td>28.173114</td>\n",
              "    </tr>\n",
              "    <tr>\n",
              "      <th>2</th>\n",
              "      <td>18.600315</td>\n",
              "    </tr>\n",
              "    <tr>\n",
              "      <th>3</th>\n",
              "      <td>23.346711</td>\n",
              "    </tr>\n",
              "    <tr>\n",
              "      <th>4</th>\n",
              "      <td>18.892405</td>\n",
              "    </tr>\n",
              "  </tbody>\n",
              "</table>\n",
              "</div>"
            ],
            "text/plain": [
              "   lr_predection\n",
              "0      27.829478\n",
              "1      28.173114\n",
              "2      18.600315\n",
              "3      23.346711\n",
              "4      18.892405"
            ]
          },
          "metadata": {
            "tags": []
          },
          "execution_count": 80
        }
      ]
    },
    {
      "cell_type": "code",
      "metadata": {
        "colab": {
          "base_uri": "https://localhost:8080/",
          "height": 202
        },
        "id": "_fTn2OARZVUZ",
        "outputId": "2dd992af-be3a-46fb-d01f-08dccf0f5f2f"
      },
      "source": [
        "##Concatnate the Predections of the linear regression to the Test Data Set\r\n",
        "\r\n",
        "boston_test_predection=pd.concat((boston_test_labels,lr_df),axis=1)\r\n",
        "boston_test_predection.head()\r\n"
      ],
      "execution_count": 81,
      "outputs": [
        {
          "output_type": "execute_result",
          "data": {
            "text/html": [
              "<div>\n",
              "<style scoped>\n",
              "    .dataframe tbody tr th:only-of-type {\n",
              "        vertical-align: middle;\n",
              "    }\n",
              "\n",
              "    .dataframe tbody tr th {\n",
              "        vertical-align: top;\n",
              "    }\n",
              "\n",
              "    .dataframe thead th {\n",
              "        text-align: right;\n",
              "    }\n",
              "</style>\n",
              "<table border=\"1\" class=\"dataframe\">\n",
              "  <thead>\n",
              "    <tr style=\"text-align: right;\">\n",
              "      <th></th>\n",
              "      <th>MEDV</th>\n",
              "      <th>lr_predection</th>\n",
              "    </tr>\n",
              "  </thead>\n",
              "  <tbody>\n",
              "    <tr>\n",
              "      <th>0</th>\n",
              "      <td>28.2</td>\n",
              "      <td>27.829478</td>\n",
              "    </tr>\n",
              "    <tr>\n",
              "      <th>1</th>\n",
              "      <td>23.9</td>\n",
              "      <td>28.173114</td>\n",
              "    </tr>\n",
              "    <tr>\n",
              "      <th>2</th>\n",
              "      <td>16.6</td>\n",
              "      <td>18.600315</td>\n",
              "    </tr>\n",
              "    <tr>\n",
              "      <th>3</th>\n",
              "      <td>22.0</td>\n",
              "      <td>23.346711</td>\n",
              "    </tr>\n",
              "    <tr>\n",
              "      <th>4</th>\n",
              "      <td>20.8</td>\n",
              "      <td>18.892405</td>\n",
              "    </tr>\n",
              "  </tbody>\n",
              "</table>\n",
              "</div>"
            ],
            "text/plain": [
              "   MEDV  lr_predection\n",
              "0  28.2      27.829478\n",
              "1  23.9      28.173114\n",
              "2  16.6      18.600315\n",
              "3  22.0      23.346711\n",
              "4  20.8      18.892405"
            ]
          },
          "metadata": {
            "tags": []
          },
          "execution_count": 81
        }
      ]
    },
    {
      "cell_type": "code",
      "metadata": {
        "colab": {
          "base_uri": "https://localhost:8080/"
        },
        "id": "NxwstjiwZWho",
        "outputId": "9dd0b7e9-47d2-4cae-b5ad-b44c9c1073ad"
      },
      "source": [
        "#Intercepting the Coefficients \r\n",
        "print (lr.intercept_)\r\n",
        "\r\n",
        "#Print the coefficient\r\n",
        "print(lr.coef_)\r\n",
        "\r\n",
        "##The intercept will be your b0 and coefficient will be b1."
      ],
      "execution_count": 82,
      "outputs": [
        {
          "output_type": "stream",
          "text": [
            "[24.28507347]\n",
            "[[ 3.82478846e+00 -2.96289190e-03 -9.82968918e-01 -5.93249451e-01]]\n"
          ],
          "name": "stdout"
        }
      ]
    },
    {
      "cell_type": "code",
      "metadata": {
        "id": "Q-EKPlWaaJGg"
      },
      "source": [
        "#Model Evaluation\r\n",
        "#There are 3 promary metrics used to evaulate the liner regression models.\r\n",
        "#1-Mean Absolute Error (MAE)\r\n",
        "#2-Mean Squared Error (MSE)\r\n",
        "#3-Root Mean Squared Error (RMSE)\r\n",
        "\r\n",
        "#MAE: It is absolute Difference between Target value (\"MDEV\") and the Value Predected by Model.\r\n",
        "#MSE: It is Avarage of Squared Difference between the Target Value and value Predected.\r\n",
        "#RMSE: It is Squre root of the average Squared root difference between the target value and value predected. "
      ],
      "execution_count": 83,
      "outputs": []
    },
    {
      "cell_type": "code",
      "metadata": {
        "colab": {
          "base_uri": "https://localhost:8080/"
        },
        "id": "wDwhdezqdVob",
        "outputId": "4deff929-cb1f-49b0-f18f-c08b446886cc"
      },
      "source": [
        "#Import Metrics library\r\n",
        "from sklearn import metrics\r\n",
        "\r\n",
        "#Import Numpy\r\n",
        "import numpy as np\r\n",
        "\r\n",
        "#Result of MAE\r\n",
        "print(metrics.mean_absolute_error(boston_test_predection['MEDV'],boston_test_predection['lr_predection']))\r\n",
        "\r\n",
        "#Result of MSE\r\n",
        "print(metrics.mean_squared_error(boston_test_predection['MEDV'],boston_test_predection['lr_predection']))\r\n",
        "\r\n",
        "#Result of RMSE\r\n",
        "print(np.sqrt(metrics.mean_squared_error(boston_test_predection['MEDV'],boston_test_predection['lr_predection'])))\r\n",
        "\r\n"
      ],
      "execution_count": 87,
      "outputs": [
        {
          "output_type": "stream",
          "text": [
            "4.28125545229612\n",
            "29.97447785621386\n",
            "5.474895237008089\n"
          ],
          "name": "stdout"
        }
      ]
    }
  ]
}